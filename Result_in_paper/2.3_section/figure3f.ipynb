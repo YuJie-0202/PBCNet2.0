{
 "cells": [
  {
   "cell_type": "code",
   "execution_count": 1,
   "metadata": {},
   "outputs": [],
   "source": [
    "import numpy as np\n",
    "import pandas as pd\n",
    "import torch\n",
    "import sys\n",
    "code_path = '/home/user-home/yujie/0_PBCNetv2/0_PBCNET'\n",
    "sys.path.append(f'{code_path}/model_code')\n",
    "from torch.utils.data import DataLoader\n",
    "from tqdm import tqdm\n",
    "from utilis.utilis import pkl_load"
   ]
  },
  {
   "cell_type": "code",
   "execution_count": 2,
   "metadata": {},
   "outputs": [],
   "source": [
    "def minmax(tensor_x):\n",
    "    min_val = torch.min(tensor_x)\n",
    "    max_val = torch.max(tensor_x)\n",
    "    tensor_x_normalized = (tensor_x - min_val) / (max_val - min_val)\n",
    "\n",
    "    return tensor_x_normalized"
   ]
  },
  {
   "cell_type": "code",
   "execution_count": 3,
   "metadata": {},
   "outputs": [],
   "source": [
    "model = torch.load(f\"{code_path}/PBCNet2.pth\", map_location=torch.device('cpu'), weights_only=False)"
   ]
  },
  {
   "cell_type": "code",
   "execution_count": 4,
   "metadata": {},
   "outputs": [
    {
     "data": {
      "text/plain": [
       "1"
      ]
     },
     "execution_count": 4,
     "metadata": {},
     "output_type": "execute_result"
    }
   ],
   "source": [
    "sys = f'{code_path}/data/F-Opt/pose/5G4O_1_bad.pkl'\n",
    "g = pkl_load(sys)\n",
    "index = np.where(g.nodes['atom'].data['x'] == 9)[0][0]\n",
    "index"
   ]
  },
  {
   "cell_type": "code",
   "execution_count": 5,
   "metadata": {},
   "outputs": [
    {
     "data": {
      "text/plain": [
       "tensor([ 92.9613,  95.5270, -40.8474])"
      ]
     },
     "execution_count": 5,
     "metadata": {},
     "output_type": "execute_result"
    }
   ],
   "source": [
    "g.nodes['atom'].data['pos'][index]"
   ]
  },
  {
   "cell_type": "code",
   "execution_count": 6,
   "metadata": {},
   "outputs": [],
   "source": [
    "def mean_sca(att, type):\n",
    "    input = torch.zeros(torch.max(type)+1)\n",
    "    v = input.scatter_reduce_(0, type, att, reduce=\"mean\", include_self=False)\n",
    "    return v"
   ]
  },
  {
   "cell_type": "code",
   "execution_count": 7,
   "metadata": {},
   "outputs": [
    {
     "name": "stdout",
     "output_type": "stream",
     "text": [
      "torch.Size([1686, 96, 3])\n",
      "tensor([0.0097, 0.0090, 0.0000, 0.0146, 0.0189],\n",
      "       grad_fn=<ScatterReduceBackward0>)\n"
     ]
    }
   ],
   "source": [
    "\n",
    "g.edges['int'].data['bond_scalar'] = torch.clip(g.edges['int'].data['bond_scalar'].long(), min=0, max=4)\n",
    "g.edges['ind'].data['bond_scalar'] = torch.clip(g.edges['ind'].data['bond_scalar'].long(), min=0, max=4)\n",
    "emb,att = model._readout(g, bb=False)\n",
    "att =att[0]\n",
    "bond_type = 'int'\n",
    "print(att.shape)\n",
    "att1 = att.reshape(att.shape[0], -1)\n",
    "\n",
    "att1_ = torch.mean(att1,dim=-1)\n",
    "mask = g.nodes['atom'].data['type'].detach().numpy()\n",
    "\n",
    "def src_norm_dst(src_field, dst_field, out_field):\n",
    "    def func(edges):\n",
    "        return {out_field: torch.sqrt(torch.sum((edges.src[src_field] - edges.dst[dst_field]) ** 2, dim=1))}\n",
    "    return func\n",
    "g.apply_edges(src_norm_dst('pos', 'pos', 'dist'), etype=bond_type)\n",
    "d = g.edges[bond_type].data['dist']\n",
    "type = g.edges[bond_type].data['bond_scalar'].long()\n",
    "a = mean_sca(att1_, type)\n",
    "print(a)"
   ]
  },
  {
   "cell_type": "code",
   "execution_count": 8,
   "metadata": {},
   "outputs": [
    {
     "data": {
      "text/plain": [
       "tensor([0.8172, 0.5047, 1.0000, 0.5073, 0.6599, 0.8835, 0.5649, 0.4010, 0.6711,\n",
       "        0.7415, 0.8811, 0.1205, 0.8651, 0.0000, 0.3338, 0.8173, 0.9853, 0.8651,\n",
       "        0.5415, 0.9248], grad_fn=<DivBackward0>)"
      ]
     },
     "execution_count": 8,
     "metadata": {},
     "output_type": "execute_result"
    }
   ],
   "source": [
    "g = pkl_load(sys)\n",
    "a = np.intersect1d(np.where(g.edges['int'].data['bond_scalar'].long() == 6)[0], np.where(g.edges(etype = 'int')[1].detach().numpy() == index)[0])\n",
    "b = np.intersect1d(np.where(g.edges['int'].data['bond_scalar'].long() == 6)[0], np.where(g.edges(etype = 'int')[0].detach().numpy() == index)[0])\n",
    "minmax(att1_[b])"
   ]
  },
  {
   "cell_type": "code",
   "execution_count": null,
   "metadata": {},
   "outputs": [],
   "source": [
    "#pdbcnet:\n",
    "[0.6793, 0.9124, 0.0000, 0.6731, 0.3564, 1.0000, 0.9430, 0.6803, 0.6012,\n",
    "0.9481, 0.2420, 0.7375, 0.3170, 0.6041, 0.5990, 0.6631, 0.1871, 0.7009,\n",
    "0.5912, 0.8434]\n",
    "\n",
    "# key atoms coor : [ 93.8250,  94.3800, -37.6840]   [ 95.9460,  96.5480, -39.4560]"
   ]
  },
  {
   "cell_type": "code",
   "execution_count": 9,
   "metadata": {},
   "outputs": [
    {
     "data": {
      "text/plain": [
       "tensor([[ 94.0090,  93.0250, -36.9980],\n",
       "        [ 93.8250,  94.3800, -37.6840],\n",
       "        [ 92.7220,  94.6830, -38.1420],\n",
       "        [ 93.7040,  91.8870, -37.9970],\n",
       "        [ 94.9100,  95.1620, -37.7320],\n",
       "        [ 94.9430,  96.5040, -38.3020],\n",
       "        [ 95.9460,  96.5480, -39.4560],\n",
       "        [ 97.0410,  96.0030, -39.3310],\n",
       "        [ 95.3610,  97.5030, -37.2080],\n",
       "        [ 95.5590,  97.2460, -40.5310],\n",
       "        [ 96.4000,  97.5840, -41.6780],\n",
       "        [ 96.0490,  99.0030, -42.1550],\n",
       "        [ 94.9000,  99.4310, -42.0320],\n",
       "        [ 96.2220,  96.6000, -42.8750],\n",
       "        [ 96.9470,  95.2640, -42.6520],\n",
       "        [ 94.7660,  96.3830, -43.3140],\n",
       "        [ 90.1970,  98.9490, -38.9140],\n",
       "        [ 89.5070,  96.3780, -37.8740],\n",
       "        [ 89.3880,  93.9960, -38.3380],\n",
       "        [ 89.1210,  92.4580, -40.7080]])"
      ]
     },
     "execution_count": 9,
     "metadata": {},
     "output_type": "execute_result"
    }
   ],
   "source": [
    "g.nodes['atom'].data['pos'][g.edges(etype = 'int')[0].detach().numpy()[a]]"
   ]
  },
  {
   "cell_type": "code",
   "execution_count": 10,
   "metadata": {},
   "outputs": [
    {
     "data": {
      "text/plain": [
       "tensor([0.8172, 0.5047, 0.5073, 0.8835, 0.5649, 0.6711, 0.8811, 0.1205, 0.0000,\n",
       "        0.3338, 0.8173, 0.8651], grad_fn=<IndexBackward0>)"
      ]
     },
     "execution_count": 10,
     "metadata": {},
     "output_type": "execute_result"
    }
   ],
   "source": [
    "minmax(att1_[b])[g.nodes['atom'].data['x'][g.edges(etype = 'int')[0].detach().numpy()[a]] == 6]"
   ]
  },
  {
   "cell_type": "code",
   "execution_count": 11,
   "metadata": {},
   "outputs": [
    {
     "data": {
      "text/plain": [
       "tensor(0.5805, grad_fn=<MeanBackward0>)"
      ]
     },
     "execution_count": 11,
     "metadata": {},
     "output_type": "execute_result"
    }
   ],
   "source": [
    "torch.mean(minmax(att1_[b])[g.nodes['atom'].data['x'][g.edges(etype = 'int')[0].detach().numpy()[a]] == 6])"
   ]
  },
  {
   "cell_type": "code",
   "execution_count": null,
   "metadata": {},
   "outputs": [],
   "source": []
  },
  {
   "cell_type": "code",
   "execution_count": null,
   "metadata": {},
   "outputs": [],
   "source": []
  },
  {
   "cell_type": "code",
   "execution_count": null,
   "metadata": {},
   "outputs": [],
   "source": []
  }
 ],
 "metadata": {
  "kernelspec": {
   "display_name": "eq2new",
   "language": "python",
   "name": "python3"
  },
  "language_info": {
   "codemirror_mode": {
    "name": "ipython",
    "version": 3
   },
   "file_extension": ".py",
   "mimetype": "text/x-python",
   "name": "python",
   "nbconvert_exporter": "python",
   "pygments_lexer": "ipython3",
   "version": "3.8.19"
  }
 },
 "nbformat": 4,
 "nbformat_minor": 2
}
