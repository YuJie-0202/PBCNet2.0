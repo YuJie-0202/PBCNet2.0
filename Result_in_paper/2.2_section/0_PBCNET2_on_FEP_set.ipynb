{
 "cells": [
  {
   "cell_type": "code",
   "execution_count": null,
   "metadata": {},
   "outputs": [
    {
     "name": "stdout",
     "output_type": "stream",
     "text": [
      "/home/user-home/yujie/0_PBCNetv2/0_PBCNET\n"
     ]
    }
   ],
   "source": [
    "from sklearn.metrics import mean_absolute_error, mean_squared_error\n",
    "import torch\n",
    "import numpy as np\n",
    "import pandas as pd\n",
    "from torch.utils.data import DataLoader\n",
    "import dgl\n",
    "import sys\n",
    "\n",
    "# here, the path should be changed accordingly\n",
    "sys.path.append(\"/home/user-home/yujie/0_PBCNetv2/0_PBCNET/model_code/\")\n",
    "code_path = '/home/user-home/yujie/0_PBCNetv2/0_PBCNET/'\n",
    "\n",
    "from Dataloader.dataloader import LeadOptDataset, collate_fn_fep\n",
    "from utilis.utilis import  pkl_load\n",
    "from predict.predict import test_fep"
   ]
  },
  {
   "cell_type": "code",
   "execution_count": 2,
   "metadata": {},
   "outputs": [],
   "source": [
    "model = torch.load(f\"{code_path}/PBCNet2.pth\",map_location=torch.device('cuda:1'),weights_only=False)"
   ]
  },
  {
   "cell_type": "code",
   "execution_count": 3,
   "metadata": {},
   "outputs": [],
   "source": [
    "import scipy.stats as stats\n",
    "import pandas as pd\n",
    "import numpy as np\n",
    "from sklearn.metrics import mean_absolute_error, mean_squared_error\n",
    "def S(X, Y):\n",
    "    return stats.spearmanr(X, Y)[0]\n",
    "def R(X, Y):\n",
    "    return stats.pearsonr(X, Y)[0]\n",
    "def RMSE(X,Y):\n",
    "    return mean_squared_error(X,Y) ** 0.5"
   ]
  },
  {
   "cell_type": "code",
   "execution_count": 4,
   "metadata": {},
   "outputs": [
    {
     "name": "stdout",
     "output_type": "stream",
     "text": [
      "pfkfb3,RMSE:1.040290891243908,spearman:0.7339962476547842,spearman_var:5.595288800340725e-05,spearmans_min:0.7247654784240151,spearmans_max:0.7467166979362101,                        pearson:0.7212142758767157, pearsons_var:0.0001495926148491426,pearson_min:0.7008189751075335,pearsons_max:0.7374126096409302\n",
      "shp2,RMSE:1.357636150704334,spearman:0.7549666720017265,spearman_var:0.0001248833701638079,spearmans_min:0.7365361707920282,spearmans_max:0.7727816833751084,                        pearson:0.720567195969162, pearsons_var:0.00015821055197364647,pearson_min:0.7042732447888806,pearsons_max:0.7383017960508732\n",
      "eg5,RMSE:0.6777484613935326,spearman:0.8559965872466705,spearman_var:0.00019902232066325762,spearmans_min:0.8351386767444542,spearmans_max:0.89077804378716,                        pearson:0.8391626682002041, pearsons_var:0.0002484680990343251,pearson_min:0.8140911266662175,pearsons_max:0.8576195707248989\n",
      "hif2a,RMSE:1.6184601692913243,spearman:0.41614855581490245,spearman_var:0.00022363056620356946,spearmans_min:0.39811928889371295,spearmans_max:0.44813753390438715,                        pearson:0.3537824349647902, pearsons_var:7.823827173963125e-05,pearson_min:0.3396524253481602,pearsons_max:0.3678598726050269\n",
      "cdk8,RMSE:1.5394041437753205,spearman:0.5738583354714092,spearman_var:0.0009008988162233673,spearmans_min:0.5409491970152202,spearmans_max:0.6235151270859642,                        pearson:0.7164502909061264, pearsons_var:0.00041924108510765464,pearson_min:0.6886729331042801,pearsons_max:0.7510055858412007\n",
      "syk,RMSE:1.2853464550792166,spearman:0.5340076173721423,spearman_var:0.0037926594791617314,spearmans_min:0.46715534718439367,spearmans_max:0.6951649350150385,                        pearson:0.48750820388649885, pearsons_var:0.0032336647253198313,pearson_min:0.41791236995755904,pearsons_max:0.6098836172370226\n",
      "cmet,RMSE:1.9721243656243952,spearman:0.628304670478418,spearman_var:0.001780862359923397,spearmans_min:0.5647731357755271,spearmans_max:0.7093411242701108,                        pearson:0.6429633479137855, pearsons_var:0.0021094296850004816,pearson_min:0.6052728389298655,pearsons_max:0.7327166860970581\n",
      "tnks2,RMSE:1.3690700404257492,spearman:0.49375668412236245,spearman_var:0.00025464027067080536,spearmans_min:0.46985193647703943,spearmans_max:0.5220577071967105,                        pearson:0.5589883316517306, pearsons_var:0.0001817039543707694,pearson_min:0.5379677317814379,pearsons_max:0.5825945614303587\n",
      "FEP2,RMSE:1.3575100846922226, RMSE_g:1.3575100846922226,spearman:0.623879421270302,pearson:0.6300795936711266\n"
     ]
    }
   ],
   "source": [
    "d = test_fep('FEP2',None,model,'cuda:1',code_path,32)"
   ]
  },
  {
   "cell_type": "code",
   "execution_count": 5,
   "metadata": {},
   "outputs": [
    {
     "name": "stdout",
     "output_type": "stream",
     "text": [
      "CDK2,RMSE:1.1908839022240216,spearman:0.8132352941176471,spearman_var:0.0003845155709342555,spearmans_min:0.7705882352941177,spearmans_max:0.8470588235294118,                        pearson:0.7402363068294748, pearsons_var:0.00043427389016591786,pearson_min:0.7033338231592113,pearsons_max:0.7824658881298335\n",
      "Tyk2,RMSE:1.1215246675970207,spearman:0.8429411764705883,spearman_var:0.0010245674740484432,spearmans_min:0.7764705882352941,spearmans_max:0.8970588235294118,                        pearson:0.8668635172285214, pearsons_var:0.0005408473462337985,pearson_min:0.8207402954675919,pearsons_max:0.9041881976040307\n",
      "Bace,RMSE:1.1085932681093107,spearman:0.6113966643700848,spearman_var:0.001227723277974535,spearmans_min:0.5727900002355064,spearmans_max:0.6998906590107863,                        pearson:0.6436372259214258, pearsons_var:0.0004376468592664731,pearson_min:0.6150611880877465,pearsons_max:0.682046776918422\n",
      "Jnk1,RMSE:1.2268843660524855,spearman:0.5961676183214981,spearman_var:0.0013608769398243082,spearmans_min:0.5241961952336555,spearmans_max:0.6632023733997053,                        pearson:0.5589250662155064, pearsons_var:0.0009023390344620062,pearson_min:0.4990959531411903,pearsons_max:0.6173910229865102\n",
      "PTP1B,RMSE:1.4267203597858826,spearman:0.7039592119994386,spearman_var:0.0006458694868711244,spearmans_min:0.6630388304486172,spearmans_max:0.750124527582167,                        pearson:0.6635409003759911, pearsons_var:0.001718586078133007,pearson_min:0.6195419234580998,pearsons_max:0.7578830161179152\n",
      "MCL1,RMSE:1.2043719266134836,spearman:0.6476985434557426,spearman_var:4.969568367943158e-05,spearmans_min:0.6377633732448382,spearmans_max:0.6644246375139045,                        pearson:0.6466574165030659, pearsons_var:6.603372537615802e-05,pearson_min:0.6299353848821291,pearsons_max:0.6593965616746683\n",
      "p38,RMSE:1.208039711823421,spearman:0.6392417433323712,spearman_var:0.000165618590088026,spearmans_min:0.6184434473770595,spearmans_max:0.6695216153849571,                        pearson:0.6165311647604262, pearsons_var:0.0002122267539460849,pearson_min:0.5990681110704972,pearsons_max:0.6426454069223067\n",
      "Thrombin,RMSE:0.45485274331391556,spearman:0.8318181818181817,spearman_var:0.0028140495867768596,spearmans_min:0.7090909090909091,spearmans_max:0.9181818181818182,                        pearson:0.8243548807298436, pearsons_var:0.0018260905612883232,pearson_min:0.756112067853814,pearsons_max:0.9002074762109709\n",
      "FEP1,RMSE:1.1177338681899425, RMSE_g:1.1177338681899425,spearman:0.710807304235694,pearson:0.695093309820532\n"
     ]
    }
   ],
   "source": [
    "d = test_fep('FEP1',None,model,'cuda:1',code_path,32)"
   ]
  }
 ],
 "metadata": {
  "kernelspec": {
   "display_name": "eq2new",
   "language": "python",
   "name": "python3"
  },
  "language_info": {
   "codemirror_mode": {
    "name": "ipython",
    "version": 3
   },
   "file_extension": ".py",
   "mimetype": "text/x-python",
   "name": "python",
   "nbconvert_exporter": "python",
   "pygments_lexer": "ipython3",
   "version": "3.8.19"
  }
 },
 "nbformat": 4,
 "nbformat_minor": 2
}
