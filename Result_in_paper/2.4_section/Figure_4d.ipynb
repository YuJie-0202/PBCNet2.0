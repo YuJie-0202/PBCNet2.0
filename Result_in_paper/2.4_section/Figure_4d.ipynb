{
 "cells": [
  {
   "cell_type": "code",
   "execution_count": 1,
   "metadata": {},
   "outputs": [],
   "source": [
    "import numpy as np\n",
    "import pandas as pd\n",
    "import torch\n",
    "import sys\n",
    "code_path = '/home/user-home/yujie/0_PBCNetv2/0_PBCNET'\n",
    "sys.path.append(f'{code_path}/model_code')\n",
    "from torch.utils.data import DataLoader\n",
    "from tqdm import tqdm\n",
    "from utilis.utilis import pkl_load\n"
   ]
  },
  {
   "cell_type": "code",
   "execution_count": 2,
   "metadata": {},
   "outputs": [],
   "source": [
    "def minmax(tensor_x):\n",
    "    min_val = torch.min(tensor_x)\n",
    "    max_val = torch.max(tensor_x)\n",
    "    tensor_x_normalized = (tensor_x - min_val) / (max_val - min_val)\n",
    "\n",
    "    return tensor_x_normalized"
   ]
  },
  {
   "cell_type": "code",
   "execution_count": 3,
   "metadata": {},
   "outputs": [],
   "source": [
    "model = torch.load(f\"{code_path}//PBCNet2.pth\", map_location=torch.device('cpu'), weights_only=False)"
   ]
  },
  {
   "cell_type": "code",
   "execution_count": 4,
   "metadata": {},
   "outputs": [
    {
     "data": {
      "text/plain": [
       "2"
      ]
     },
     "execution_count": 4,
     "metadata": {},
     "output_type": "execute_result"
    }
   ],
   "source": [
    "# sys = f\"{code_path}/data/Mutation/P00469/WT_1THY_ligand.pkl\"\n",
    "sys = f'{code_path}/data/Mutation/P00469/MT_1THY_N229C_ligand.pkl'\n",
    "g = pkl_load(sys)\n",
    "index = np.where(g.nodes['atom'].data['x'] == 7)[0][1]\n",
    "index"
   ]
  },
  {
   "cell_type": "code",
   "execution_count": 5,
   "metadata": {},
   "outputs": [
    {
     "data": {
      "text/plain": [
       "tensor([ 13.8244,  46.3555, -50.7142])"
      ]
     },
     "execution_count": 5,
     "metadata": {},
     "output_type": "execute_result"
    }
   ],
   "source": [
    "g.nodes['atom'].data['pos'][index]"
   ]
  },
  {
   "cell_type": "code",
   "execution_count": 6,
   "metadata": {},
   "outputs": [],
   "source": [
    "def mean_sca(att, type):\n",
    "    input = torch.zeros(torch.max(type)+1)\n",
    "    v = input.scatter_reduce_(0, type, att, reduce=\"mean\", include_self=False)\n",
    "    return v"
   ]
  },
  {
   "cell_type": "code",
   "execution_count": 7,
   "metadata": {},
   "outputs": [
    {
     "name": "stdout",
     "output_type": "stream",
     "text": [
      "torch.Size([2590, 96, 3])\n",
      "tensor([0.0096, 0.0096, 0.0000, 0.0121, 0.0160],\n",
      "       grad_fn=<ScatterReduceBackward0>)\n"
     ]
    }
   ],
   "source": [
    "\n",
    "g.edges['int'].data['bond_scalar'] = torch.clip(g.edges['int'].data['bond_scalar'].long(), min=0, max=4)\n",
    "g.edges['ind'].data['bond_scalar'] = torch.clip(g.edges['ind'].data['bond_scalar'].long(), min=0, max=4)\n",
    "emb,att = model._readout(g, bb=False)\n",
    "att =att[0]\n",
    "bond_type = 'int'\n",
    "print(att.shape)\n",
    "att1 = att.reshape(att.shape[0], -1)\n",
    "\n",
    "att1_ = torch.mean(att1,dim=-1)\n",
    "mask = g.nodes['atom'].data['type'].detach().numpy()\n",
    "\n",
    "def src_norm_dst(src_field, dst_field, out_field):\n",
    "    def func(edges):\n",
    "        return {out_field: torch.sqrt(torch.sum((edges.src[src_field] - edges.dst[dst_field]) ** 2, dim=1))}\n",
    "    return func\n",
    "g.apply_edges(src_norm_dst('pos', 'pos', 'dist'), etype=bond_type)\n",
    "d = g.edges[bond_type].data['dist']\n",
    "type = g.edges[bond_type].data['bond_scalar'].long()\n",
    "\n",
    "a = mean_sca(att1_, type)\n",
    "print(a)\n",
    "\n"
   ]
  },
  {
   "cell_type": "code",
   "execution_count": 8,
   "metadata": {},
   "outputs": [
    {
     "data": {
      "text/plain": [
       "tensor([0.0000, 0.4341, 0.0591, 0.8780, 0.6908, 1.0000, 0.6187],\n",
       "       grad_fn=<DivBackward0>)"
      ]
     },
     "execution_count": 8,
     "metadata": {},
     "output_type": "execute_result"
    }
   ],
   "source": [
    "g = pkl_load(sys)\n",
    "a = np.intersect1d(np.where(g.edges['int'].data['bond_scalar'].long() == 6)[0], np.where(g.edges(etype = 'int')[1].detach().numpy() == index)[0])\n",
    "b = np.intersect1d(np.where(g.edges['int'].data['bond_scalar'].long() == 6)[0], np.where(g.edges(etype = 'int')[0].detach().numpy() == index)[0])\n",
    "minmax(att1_[b])"
   ]
  },
  {
   "cell_type": "code",
   "execution_count": 9,
   "metadata": {},
   "outputs": [
    {
     "data": {
      "text/plain": [
       "tensor([[ 11.0640,  48.8600, -53.3720],\n",
       "        [ 12.5460,  49.4680, -54.2140],\n",
       "        [  9.4040,  47.3100, -48.7640],\n",
       "        [ 10.7100,  44.4150, -52.0210],\n",
       "        [ 11.5710,  45.4160, -54.7070],\n",
       "        [ 15.4990,  42.6460, -48.4710],\n",
       "        [ 11.1600,  44.2070, -48.3670]])"
      ]
     },
     "execution_count": 9,
     "metadata": {},
     "output_type": "execute_result"
    }
   ],
   "source": [
    "g.nodes['atom'].data['pos'][g.edges(etype = 'int')[0].detach().numpy()[a]]"
   ]
  },
  {
   "cell_type": "code",
   "execution_count": 10,
   "metadata": {},
   "outputs": [
    {
     "data": {
      "text/plain": [
       "tensor([ 6, 16,  6,  7,  8,  6, 16])"
      ]
     },
     "execution_count": 10,
     "metadata": {},
     "output_type": "execute_result"
    }
   ],
   "source": [
    "g.nodes['atom'].data['x'][g.edges(etype = 'int')[0].detach().numpy()[a]]"
   ]
  },
  {
   "cell_type": "code",
   "execution_count": null,
   "metadata": {},
   "outputs": [],
   "source": []
  },
  {
   "cell_type": "code",
   "execution_count": null,
   "metadata": {},
   "outputs": [],
   "source": []
  },
  {
   "cell_type": "code",
   "execution_count": null,
   "metadata": {},
   "outputs": [],
   "source": []
  },
  {
   "cell_type": "code",
   "execution_count": 2,
   "metadata": {},
   "outputs": [
    {
     "data": {
      "text/plain": [
       "array(['/home/user-home/yujie/0_PBCNetv2/data_BindingDB/pdbs/sys_graph/bindingDB_107668/lig30.pkl',\n",
       "       '/home/user-home/yujie/0_PBCNetv2/data_BindingDB/pdbs/sys_graph/bindingDB_87605/lig1.pkl',\n",
       "       '/home/user-home/yujie/0_PBCNetv2/data_BindingDB/pdbs/sys_graph/bindingDB_61468/lig9.pkl',\n",
       "       ...,\n",
       "       '/home/user-home/yujie/0_PBCNetv2/data_BindingDB/pdbs/sys_graph/bindingDB_79658/lig18.pkl',\n",
       "       '/home/user-home/yujie/0_PBCNetv2/data_BindingDB/pdbs/sys_graph/bindingDB_107056/lig125.pkl',\n",
       "       '/home/user-home/yujie/0_PBCNetv2/data_BindingDB/pdbs/sys_graph/bindingDB_62106/lig185.pkl'],\n",
       "      dtype=object)"
      ]
     },
     "execution_count": 2,
     "metadata": {},
     "output_type": "execute_result"
    }
   ],
   "source": [
    "import pandas as pd\n",
    "a = pd.read_csv(\"/home/user-home/yujie/0_PBCNetv2/data_BindingDB/pdbs/training_clip_862W.csv\")\n",
    "a.dir_2.values"
   ]
  }
 ],
 "metadata": {
  "kernelspec": {
   "display_name": "eq2new",
   "language": "python",
   "name": "python3"
  },
  "language_info": {
   "codemirror_mode": {
    "name": "ipython",
    "version": 3
   },
   "file_extension": ".py",
   "mimetype": "text/x-python",
   "name": "python",
   "nbconvert_exporter": "python",
   "pygments_lexer": "ipython3",
   "version": "3.8.19"
  }
 },
 "nbformat": 4,
 "nbformat_minor": 2
}
